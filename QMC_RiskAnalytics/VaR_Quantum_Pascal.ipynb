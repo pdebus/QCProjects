{
 "cells": [
  {
   "cell_type": "markdown",
   "id": "318aeaa1",
   "metadata": {},
   "source": [
    "We are building on the paper \"Quantum Monte Carlo simulations for financial risk analytics: scenario generation for equity, rate, and credit risk factors\" (Titos Matsakos and Stuart Nield; Quantum 8, 1306 (2024).) by applying bisection to practically implement the estimation of VaR via Quantum Circuits. \n",
    "Before explaining the basics of bisection we give a short primer on the risk measure value-at-risk."
   ]
  },
  {
   "cell_type": "markdown",
   "id": "c257d7d6-afcb-426f-8571-4579157480da",
   "metadata": {},
   "source": [
    "Value at Risk is a common risk measure that estimates potential loss (or gain, depending on the convention). \n",
    "Going with the loss the value at risk ($\\text{VaR}$) provides a threshold such that the probability of exceeding said threshold \n",
    "is at most 1-$\\alpha$, which indicate the confidence level. Let us formalize this.\n",
    "Going with a parametric approach, that is assuming a distribution of the analyzed data (in contrast to non-parametric approaches), we need real random variable $X$ which can model e.g. an investment and a certain distrubtion assumption. Common choices in the context of financial data for this are the normal distribution, t-distribution or fat tails. \n",
    "\n",
    "Therefore, the VaR with the confidence level $\\alpha$ can be defined as follows \n",
    "$$\\text{VaR}_{\\alpha} = \\text{inf}\\{x\\in \\mathbb{R} | \\mathbb{P}(X>x) \\leq 1-\\alpha\\},$$\n",
    "where $\\mathbb{P}$ denotes the probability measure of the underlying probability space. \n",
    "\n",
    "Being a risk measure the $\\text{VaR}$ is normalized, translative and monotone: \n",
    "\n",
    "- $\\text{VaR}(0) = 0$\n",
    "- $\\text{VaR}(X+c) = \\text{VaR}(X) - c$ for $c\\in\\mathbb{R}$\n",
    "- For (real) random variables $X,Y$ s.t. $X\\leq Y$ we have $\\text{VaR}(X)\\leq \\text{VaR}(Y).$\n",
    "\n",
    "Practically speaking the VaR is the maximal loss that can be expected with a certain probabilty (that is the confidence level, which is often chosen to be $95\\%$). Equivalentyl the VaR can also be used to model the expected gain.\n"
   ]
  },
  {
   "cell_type": "markdown",
   "id": "ca4fbe5c",
   "metadata": {},
   "source": [
    "\n",
    "Bisection is used to get the roots of continuos function $$f:[a,b]\\rightarrow\\mathbb{R}\\text{ with }a<b,$$ where $f(a)$ and $f(b)$ have different signs. \n",
    "According to the intermediate there exists at least one root in $(a,b)$, that is an $r\\in(a,b)$ s.t. $f(r) = 0.$\n",
    "\n",
    "Now we compute the mean of $a$ and $b,$ that is $m = \\frac{a+b}{2}.$ If $f(m) = 0$ then we are done. Otherwise we have two possibilities: \n",
    "- The signs of $f(a)$ and $f(m)$ are different and therefore the interval $(a,m)$ contains a root.\n",
    "- The signs of of $f(m)$ amd $f(b)$ are different and therefore the interval $(m,b)$ contains a root. \n",
    "\n",
    "We iteratively apply the same procedure to the resulting subinterval until we either find the root or the intervall is as small as desired for the situation at hand.\n",
    " \n",
    " In the context of VaR the function is the difference between the empirical probability and the target level, which in our case is given by $0.95$. So the root of this function is basically the point where the empirical probability and the target level coincide. Approximating this means getting the difference as small as desired and therefore approximating the VaR with a sufficient precision. This is exactly what was discussed above with the theory on bisection.\n",
    "\n",
    "\n"
   ]
  },
  {
   "cell_type": "markdown",
   "id": "2b8a6dbd",
   "metadata": {},
   "source": []
  }
 ],
 "metadata": {
  "kernelspec": {
   "display_name": "Qiskit v1.0.2 (ipykernel)",
   "language": "python",
   "name": "python3"
  },
  "language_info": {
   "codemirror_mode": {
    "name": "ipython",
    "version": 3
   },
   "file_extension": ".py",
   "mimetype": "text/x-python",
   "name": "python",
   "nbconvert_exporter": "python",
   "pygments_lexer": "ipython3",
   "version": "3.10.8"
  },
  "widgets": {
   "application/vnd.jupyter.widget-state+json": {
    "state": {},
    "version_major": 2,
    "version_minor": 0
   }
  }
 },
 "nbformat": 4,
 "nbformat_minor": 5
}
